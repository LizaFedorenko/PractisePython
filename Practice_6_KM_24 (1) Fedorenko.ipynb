{
  "cells": [
    {
      "cell_type": "markdown",
      "metadata": {
        "id": "FMqboNwO4rVs"
      },
      "source": [
        "# **Курс \"Програмування на мові Python\"**"
      ]
    },
    {
      "cell_type": "markdown",
      "metadata": {
        "id": "A2T6MigL5Z06"
      },
      "source": [
        "## **Практичне зайняття №6**\n",
        "### Тема: \"Робота з кортежами, множинами та словниками\""
      ]
    },
    {
      "cell_type": "markdown",
      "metadata": {
        "id": "4AV5CN7N4xja"
      },
      "source": [
        "### **Завдання 1 (1,5 бали)**\n",
        "\n",
        "Напишіть програму, яка визначала б, чи можна з літер однієї фрази скласти іншу фразу. Наприклад:\n",
        "\n",
        "\"William Shakespeare\" -> \"A small spark\"\n",
        "\n",
        "Перша фраза містить 11 унікальних літер (хоча деякі повторюються): a, e, h, i, k, l, m, p, r, s та w. Друга фраза містить 7 унікальних літер: a, k, l, m, p, r та s. Кожна з літер другої фрази зустрічається принаймні один раз у першій фразі.\n",
        "\n",
        "1. Обидві фрази повинні вводитись користувачем з клавіатури.\n",
        "\n",
        "2. Скористайтесь властивістю множин у мові програмування Python для виділення колекції унікальних літер.\n",
        "\n",
        "3. У множину не повинні потрапити пробіли, розділові знаки та інші символи, що не є літерами (скористайтесь методом **isalpha()**). Також усі літери мають бути переведені в нижній або верхній регістр (скористайтесь методами **lower()** або **upper()**).\n",
        "\n",
        "4. Зверніть увагу на те, що літери як в першій, так і вдругій фразі можуть повторюватись. Однак множина унікальних літер другої фрази повинна бути підмножиною множини унікальних літер першої фрази.\n",
        "\n",
        "5. У складі змістовного повідомлення програма повинна виводити множину літер першої фрази, множину літер другої фрази, а також змістовне повідомлення про те, чи можна скласти з літер першої фрази другу фразу."
      ]
    },
    {
      "cell_type": "code",
      "execution_count": 73,
      "metadata": {
        "id": "9Mesp1jV4xjb"
      },
      "outputs": [
        {
          "name": "stdout",
          "output_type": "stream",
          "text": [
            "Please, do not use any symbols (even space):\n"
          ]
        },
        {
          "ename": "KeyboardInterrupt",
          "evalue": "Interrupted by user",
          "output_type": "error",
          "traceback": [
            "\u001b[1;31m---------------------------------------------------------------------------\u001b[0m",
            "\u001b[1;31mKeyboardInterrupt\u001b[0m                         Traceback (most recent call last)",
            "Cell \u001b[1;32mIn [73], line 4\u001b[0m\n\u001b[0;32m      2\u001b[0m \u001b[39mwhile\u001b[39;00m end \u001b[39m==\u001b[39m \u001b[39mFalse\u001b[39;00m:\n\u001b[0;32m      3\u001b[0m  text1 \u001b[39m=\u001b[39m (\u001b[39mstr\u001b[39m\u001b[39m.\u001b[39mupper(\u001b[39minput\u001b[39m(\u001b[39m'\u001b[39m\u001b[39mInput here your first line:\u001b[39m\u001b[39m'\u001b[39m)))\n\u001b[1;32m----> 4\u001b[0m  text2 \u001b[39m=\u001b[39m (\u001b[39mstr\u001b[39m\u001b[39m.\u001b[39mupper(\u001b[39minput\u001b[39;49m(\u001b[39m'\u001b[39;49m\u001b[39mInput here second line:\u001b[39;49m\u001b[39m'\u001b[39;49m)))\n\u001b[0;32m      5\u001b[0m  \u001b[39mif\u001b[39;00m text1\u001b[39m.\u001b[39misalpha() \u001b[39mand\u001b[39;00m text2\u001b[39m.\u001b[39misalpha():\n\u001b[0;32m      6\u001b[0m   text12 \u001b[39m=\u001b[39m \u001b[39mset\u001b[39m(text1)\n",
            "File \u001b[1;32m~\\AppData\\Local\\Packages\\PythonSoftwareFoundation.Python.3.10_qbz5n2kfra8p0\\LocalCache\\local-packages\\Python310\\site-packages\\ipykernel\\kernelbase.py:1177\u001b[0m, in \u001b[0;36mKernel.raw_input\u001b[1;34m(self, prompt)\u001b[0m\n\u001b[0;32m   1173\u001b[0m \u001b[39mif\u001b[39;00m \u001b[39mnot\u001b[39;00m \u001b[39mself\u001b[39m\u001b[39m.\u001b[39m_allow_stdin:\n\u001b[0;32m   1174\u001b[0m     \u001b[39mraise\u001b[39;00m StdinNotImplementedError(\n\u001b[0;32m   1175\u001b[0m         \u001b[39m\"\u001b[39m\u001b[39mraw_input was called, but this frontend does not support input requests.\u001b[39m\u001b[39m\"\u001b[39m\n\u001b[0;32m   1176\u001b[0m     )\n\u001b[1;32m-> 1177\u001b[0m \u001b[39mreturn\u001b[39;00m \u001b[39mself\u001b[39;49m\u001b[39m.\u001b[39;49m_input_request(\n\u001b[0;32m   1178\u001b[0m     \u001b[39mstr\u001b[39;49m(prompt),\n\u001b[0;32m   1179\u001b[0m     \u001b[39mself\u001b[39;49m\u001b[39m.\u001b[39;49m_parent_ident[\u001b[39m\"\u001b[39;49m\u001b[39mshell\u001b[39;49m\u001b[39m\"\u001b[39;49m],\n\u001b[0;32m   1180\u001b[0m     \u001b[39mself\u001b[39;49m\u001b[39m.\u001b[39;49mget_parent(\u001b[39m\"\u001b[39;49m\u001b[39mshell\u001b[39;49m\u001b[39m\"\u001b[39;49m),\n\u001b[0;32m   1181\u001b[0m     password\u001b[39m=\u001b[39;49m\u001b[39mFalse\u001b[39;49;00m,\n\u001b[0;32m   1182\u001b[0m )\n",
            "File \u001b[1;32m~\\AppData\\Local\\Packages\\PythonSoftwareFoundation.Python.3.10_qbz5n2kfra8p0\\LocalCache\\local-packages\\Python310\\site-packages\\ipykernel\\kernelbase.py:1219\u001b[0m, in \u001b[0;36mKernel._input_request\u001b[1;34m(self, prompt, ident, parent, password)\u001b[0m\n\u001b[0;32m   1216\u001b[0m             \u001b[39mbreak\u001b[39;00m\n\u001b[0;32m   1217\u001b[0m \u001b[39mexcept\u001b[39;00m \u001b[39mKeyboardInterrupt\u001b[39;00m:\n\u001b[0;32m   1218\u001b[0m     \u001b[39m# re-raise KeyboardInterrupt, to truncate traceback\u001b[39;00m\n\u001b[1;32m-> 1219\u001b[0m     \u001b[39mraise\u001b[39;00m \u001b[39mKeyboardInterrupt\u001b[39;00m(\u001b[39m\"\u001b[39m\u001b[39mInterrupted by user\u001b[39m\u001b[39m\"\u001b[39m) \u001b[39mfrom\u001b[39;00m \u001b[39mNone\u001b[39m\n\u001b[0;32m   1220\u001b[0m \u001b[39mexcept\u001b[39;00m \u001b[39mException\u001b[39;00m:\n\u001b[0;32m   1221\u001b[0m     \u001b[39mself\u001b[39m\u001b[39m.\u001b[39mlog\u001b[39m.\u001b[39mwarning(\u001b[39m\"\u001b[39m\u001b[39mInvalid Message:\u001b[39m\u001b[39m\"\u001b[39m, exc_info\u001b[39m=\u001b[39m\u001b[39mTrue\u001b[39;00m)\n",
            "\u001b[1;31mKeyboardInterrupt\u001b[0m: Interrupted by user"
          ]
        }
      ],
      "source": [
        "end = False\n",
        "while end == False:\n",
        " text1 = (str.upper(input('Input here your first line:')))\n",
        " text2 = (str.upper(input('Input here second line:')))\n",
        " if text1.isalpha() and text2.isalpha():\n",
        "  text12 = set(text1)\n",
        "  text23 = set(text2)\n",
        "  all = text12 & text23\n",
        "  if all == text23:\n",
        "     print ('With letters of the first line, we can make the second line')\n",
        "     print ('Letters of first line', text12)\n",
        "     print ('Letters of second line:', text23)\n",
        "     end = True\n",
        "  else:\n",
        "     print ('With letters of the first line, we cannot make the second line')\n",
        "     print ('Letters of first line:', text12)\n",
        "     print ('Letters of second line:', text23)\n",
        "     end = True\n",
        " else:\n",
        "    print ('Please, do not use any symbols (even space):')"
      ]
    },
    {
      "cell_type": "markdown",
      "metadata": {
        "id": "y7pQFLvSCkym"
      },
      "source": [
        "### **Завдання 2 (1,5 бали)**\n",
        "\n",
        "У Канаді поштові індекси мають специфічну форму. Вони складаються з трьох символів. Перший символ вказує на провінцію. Другий символ вказує на те, у міській чи у сільській місцевості знаходиться адресат. Якщо у сільській місцевості - це 0. Якщо у міській - будь-яка інша цифра. Провінція позначається великою латинською літерою. Повний перелік провінцій на літер, що їм відповідають, подано у таблиці.\n",
        "\n",
        "Провінція | Перший символ поштового індекса\n",
        "--- | ---\n",
        "Newfoundland | A\n",
        "Nova Scotia | B\n",
        "Prince Edward Island | C\n",
        "New Brunswick | E\n",
        "Quebec | G, H and J\n",
        "Ontario | K, L, M, N and P\n",
        "Manitoba | R\n",
        "Saskatchewan | S\n",
        "Alberta | T\n",
        "British Columbia | V\n",
        "Nunavut | X\n",
        "Northwest Territories | X\n",
        "Yukon | Y\n",
        "\n",
        "Напишіть програму, яка зчитує поштовий індекс, введений користувачем, та виводить у складі змістовного повідомлення провінцію адресата та інформацію про те, у міській чи у сільській місцевості він знаходиться. Наприклад, якщо користувач вводить T2N, програма повинна визначити, що адресат знаходиться у міській місцевості провінції Альберта. Якщо він вводить X0A, адресат знаходиться у сільській місцевості провінції Нанавут або Північних Територій (зверніть увагу на те, що літера X повторюється для двох провінцій). Третя літера для нас неважлива. Зауважте, що літери D, F, I, O, Q, U, W, та Z не позначають жодної з провінцій Канади.\n",
        "\n",
        "1. Скористайтесь словником для збереження усіх провінцій та літер, що їм відповідають.\n",
        "\n",
        "2. Користувач повинен ввести рівно 3 символи. Перший і останній символи мають бути літерами, другий - цифрою. Для перевірки скористайтесь методами **isalpha()** та **isdigit()**. Якщо користувач введе не 3 символи, а більше чи менше, або ж послідовність літер та цифр не буде співпадати з шаблоном, програма має вивести повідомлення про помилку.\n",
        "\n",
        "3. Програма повинна приймати літери як верхнього, так і нижнього регістрів. Однак виводити - лише у верхньому регістрі (скористайтесь методами **lower()** або **upper()**)."
      ]
    },
    {
      "cell_type": "code",
      "execution_count": 68,
      "metadata": {
        "id": "EVY800vg4xjg"
      },
      "outputs": [
        {
          "name": "stdout",
          "output_type": "stream",
          "text": [
            "Not a real index\n"
          ]
        }
      ],
      "source": [
        "index = list(str.upper((input('Input here index (only three symbols, second symbol is number'))))\n",
        "if index[0].isalpha() and index[2].isalpha() and index[1].isdigit() is True:\n",
        "    poshta = {'A': 'NewFoundLand',\n",
        "               'B':'NovaScotia' ,\n",
        "              'C' : 'Prince Edward Island',\n",
        "               'E': 'New Brunswick',\n",
        "               'G':'Quebec' ,\n",
        "               'H':'Quebec' ,\n",
        "               'J':'Quebec' ,\n",
        "               'K': 'Ontario', \n",
        "               'L': 'Ontario', \n",
        "               'M': 'Ontario', \n",
        "               'N': 'Ontario',\n",
        "               'P': 'Ontario',\n",
        "               'R': 'Manitoba',\n",
        "               'S': 'Saskatchewan',\n",
        "               'T': 'Alberta',\n",
        "               'V': 'British Columbia',\n",
        "               'X': 'Northwest Territories or Nunavut',\n",
        "               'Y': 'Yukon'\n",
        "    }\n",
        "    ind = index[0]\n",
        "    if index [1] == '0' :\n",
        "         print ('It is a rural region', poshta.get(ind))\n",
        "         print ('Your index:', (index))\n",
        "    elif poshta.get(ind) is None:\n",
        "        print ('Not a real index')\n",
        "    else:\n",
        "         print ('It is a city region', poshta.get(ind))\n",
        "         print ('Your index:', (index))\n",
        "\n",
        "\n",
        "else:\n",
        "    print('input error')\n",
        "if len(index) != 3:\n",
        "    print('Input error')"
      ]
    }
  ],
  "metadata": {
    "colab": {
      "collapsed_sections": [],
      "name": "Practice_5_KM_04_.ipynb",
      "provenance": []
    },
    "kernelspec": {
      "display_name": "Python 3.10.8 64-bit (microsoft store)",
      "language": "python",
      "name": "python3"
    },
    "language_info": {
      "codemirror_mode": {
        "name": "ipython",
        "version": 3
      },
      "file_extension": ".py",
      "mimetype": "text/x-python",
      "name": "python",
      "nbconvert_exporter": "python",
      "pygments_lexer": "ipython3",
      "version": "3.10.8"
    },
    "vscode": {
      "interpreter": {
        "hash": "8bf0d51478355d2251941b3b98616086516a0eddd7c72ee47a3371765770709a"
      }
    }
  },
  "nbformat": 4,
  "nbformat_minor": 2
}
