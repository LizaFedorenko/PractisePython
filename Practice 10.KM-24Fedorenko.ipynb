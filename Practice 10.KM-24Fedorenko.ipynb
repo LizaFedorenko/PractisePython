{
  "cells": [
    {
      "cell_type": "markdown",
      "metadata": {
        "id": "FMqboNwO4rVs"
      },
      "source": [
        "# **Курс \"Програмування на мові Python\"**"
      ]
    },
    {
      "cell_type": "markdown",
      "metadata": {
        "id": "A2T6MigL5Z06"
      },
      "source": [
        "## **Практичне зайняття №10**\n",
        "\n",
        "### Тема: \"Лямбда-функції. Функції вищих порядків\""
      ]
    },
    {
      "cell_type": "markdown",
      "metadata": {
        "id": "cfCdgK2zXm7e"
      },
      "source": [
        "### **Завдання 1 (1 бал)**\n",
        "\n",
        "Продавець роздрібного товару влаштовує розпродаж. Для всіх товарів знижка однакова - 60%. Щоб вивісити нові цінники, продавець хоче скласти таблицю, в якій для кожного товару буде підрахована його нова вартість та сума знижки.\n",
        "\n",
        "Написати програму, яка буде генерувати таку таблицю. Вартість одиниць товарів до розпродажу подано у списку products_list. \n",
        "\n",
        "1. Для підрахунку невідомих значень повинні використовуватись вбудовані функції вищих порядків.\n",
        "\n",
        "2. Вартість з урахуванням знижки та суми знижок для кожного товару повинні зберігатись у двох окремих списках. Порядок товарів у нових списках повинен бути такий самий, як і в списку products_list.\n",
        "\n",
        "3. Кожне підраховане числове значення має бути округлене до сотих.\n",
        "\n",
        "4. Дані повинні виводитись у вигляді:\n",
        "\n",
        "**Discount table:**\n",
        "\n",
        "**15.89 6.36 9.53**\n",
        "\n",
        "**39.99 16.0 23.99**\n",
        "\n",
        "**...**\n",
        "\n",
        "\n",
        "products_list = [15.89, 39.99, 82.10, 135.85, 318.90, 510.00, 799.98]"
      ]
    },
    {
      "cell_type": "code",
      "execution_count": 16,
      "metadata": {
        "id": "ifNX2M7LXm7f"
      },
      "outputs": [
        {
          "name": "stdout",
          "output_type": "stream",
          "text": [
            "Discount table:\n",
            "15.89      9.534       6.356     \n",
            "39.99      23.994      15.996     \n",
            "82.1       49.26       32.84     \n",
            "135.85     81.51       54.34     \n",
            "318.9      191.34      127.56     \n",
            "510.0      306.0       204.0     \n",
            "799.98     479.988      319.992    \n",
            "Products list:  [15.89, 39.99, 82.1, 135.85, 318.9, 510.0, 799.98]\n",
            "New list: [6.36, 16.0, 32.84, 54.34, 127.56, 204.0, 319.99]\n",
            "Discount list: [9.53, 23.99, 49.26, 81.51, 191.34, 306.0, 479.99]\n"
          ]
        }
      ],
      "source": [
        "products_list = [15.89, 39.99, 82.10, 135.85, 318.90, 510.00, 799.98]\n",
        "discount = []\n",
        "res = []\n",
        "disc = lambda i: i*0.6\n",
        "resul = lambda el: el - round(disc(el), 3)\n",
        "for el in products_list:\n",
        "    discount.append(round(disc(el), 2))\n",
        "for el in products_list:\n",
        "    res.append(round(resul(el), 2))\n",
        "print('Discount table:')\n",
        "for el in products_list:\n",
        "    print(f'{(el):<10} {round(disc(el), 3):^5}  {round(resul(el), 3):^15}')\n",
        "print('Products list: ', products_list)\n",
        "print('New list:', res)\n",
        "print('Discount list:', discount)\n",
        "\n"
      ]
    },
    {
      "cell_type": "markdown",
      "metadata": {},
      "source": [
        "### **Завдання 2 (2 бали)**\n",
        "\n",
        "Зазвичай рік має 365 днів. Однак у високосні роки додається ще один день - 29 лютого. Правила визначення високосного року такі:\n",
        "\n",
        "- Будь-який рік, що ділиться на 400 - високосний.\n",
        "\n",
        "- З тих років, що залишились, будь-який рік, що ділиться на 100 - **не** високосний.\n",
        "\n",
        "- З тих років, що залишились, будь-який рік, що ділиться на 4 - високосний.\n",
        "\n",
        "- Усі інші роки, що залишились - **не** високосні.\n",
        "\n",
        "1) Створіть функцію, в якій за допомогою вбудованих функцій вищих порядків будуть визначатися високосні роки серед перелічених років у списку years. Створена функція має повертати список високосних років.\n",
        "\n",
        "2) Створіть функцію вищих порядків, яка прийматиме на вхід попередню функцію та визначатиме кількість днів у місяці. Також функція повинна приймати на вхід ще 2 параметри: ціле число від 1 до 12 (місяць) та рік, як ціле чотирицифрове число. Ці значення корисувач має вводити з клавіатури. Перевірку введених даних слід виконувати поза межами функцій."
      ]
    },
    {
      "cell_type": "code",
      "execution_count": 83,
      "metadata": {},
      "outputs": [
        {
          "name": "stdout",
          "output_type": "stream",
          "text": [
            "[1904, 1908, 1912, 1916, 1920, 1924, 1928, 1932, 1936, 1940, 1944, 1948, 1952, 1956, 1960, 1964, 1968, 1972, 1976, 1980, 1984, 1988, 1992, 1996, 2000, 2004, 2008, 2012, 2016, 2020]\n"
          ]
        },
        {
          "ename": "IndexError",
          "evalue": "Invalid input",
          "output_type": "error",
          "traceback": [
            "\u001b[1;31m---------------------------------------------------------------------------\u001b[0m",
            "\u001b[1;31mIndexError\u001b[0m                                Traceback (most recent call last)",
            "Cell \u001b[1;32mIn [83], line 46\u001b[0m\n\u001b[0;32m     44\u001b[0m n \u001b[39m=\u001b[39m \u001b[39mint\u001b[39m(\u001b[39minput\u001b[39m(\u001b[39m'\u001b[39m\u001b[39mMonth: \u001b[39m\u001b[39m'\u001b[39m))\n\u001b[0;32m     45\u001b[0m \u001b[39mif\u001b[39;00m n \u001b[39m>\u001b[39m \u001b[39m12\u001b[39m \u001b[39mor\u001b[39;00m n \u001b[39m<\u001b[39m\u001b[39m=\u001b[39m \u001b[39m0\u001b[39m:\n\u001b[1;32m---> 46\u001b[0m     \u001b[39mraise\u001b[39;00m \u001b[39mIndexError\u001b[39;00m(\u001b[39m'\u001b[39m\u001b[39mInvalid input\u001b[39m\u001b[39m'\u001b[39m)\n\u001b[0;32m     48\u001b[0m y \u001b[39m=\u001b[39m \u001b[39mint\u001b[39m(\u001b[39minput\u001b[39m(\u001b[39m'\u001b[39m\u001b[39mYear: \u001b[39m\u001b[39m'\u001b[39m))\n\u001b[0;32m     49\u001b[0m \u001b[39mif\u001b[39;00m y \u001b[39m<\u001b[39m \u001b[39m1900\u001b[39m \u001b[39mor\u001b[39;00m y \u001b[39m>\u001b[39m \u001b[39m2020\u001b[39m:\n",
            "\u001b[1;31mIndexError\u001b[0m: Invalid input"
          ]
        }
      ],
      "source": [
        "import numpy as np\n",
        "\n",
        "years = np.arange(1900, 2020+1, 1)\n",
        "years1 = []\n",
        "v1 = lambda i:(i%400==0) or ((i%100!=0) and (i%4==0))\n",
        "def Vusocosni(years):\n",
        "    for i in years:\n",
        "        d = v1(i)\n",
        "        if str(d) == 'True':\n",
        "            years1.append(i)\n",
        "        else: continue\n",
        "    return years1\n",
        "print(Vusocosni(years))\n",
        "list31 = [1, 3, 5, 7, 8, 10, 12]\n",
        "list30 = [4, 6, 9, 11]\n",
        "def dni(f, n, y):\n",
        "    if y in f:\n",
        "        if n == 2:\n",
        "            print('Days: 29')\n",
        "            print('Month: ', n)\n",
        "            print('Year: ', y)\n",
        "        if n in list31:\n",
        "            print('Days: 31')\n",
        "            print('Month: ', n)\n",
        "            print('Year: ', y)\n",
        "        if n in list30:\n",
        "            print('Days: 30')\n",
        "            print('Month: ', n)\n",
        "            print('Year: ', y)\n",
        "    if y not in f:\n",
        "        if n == 2:\n",
        "            print('Days: 28')\n",
        "            print('Month: ', n)\n",
        "            print('Year: ', y)\n",
        "        if n in list31:\n",
        "            print('Days: 31')\n",
        "            print('Month: ', n)\n",
        "            print('Year: ', y)\n",
        "        if n in list30:\n",
        "            print('Days: 30')\n",
        "            print('Month: ', n)\n",
        "            print('Year: ', y)\n",
        "try:\n",
        "    n = int(input('Month: '))\n",
        "    if n > 12 or n <= 0:\n",
        "        raise IndexError('Invalid input')\n",
        "    \n",
        "    y = int(input('Year: '))\n",
        "    if y < 1900 or y > 2020:\n",
        "        raise IndexError('Invalid input')\n",
        "    dni(Vusocosni(years), n, y)\n",
        "except ValueError:\n",
        "    print('Error')\n"
      ]
    }
  ],
  "metadata": {
    "colab": {
      "collapsed_sections": [],
      "name": "Practice_7_KM-01_.ipynb",
      "provenance": []
    },
    "kernelspec": {
      "display_name": "Python 3.10.8 64-bit (microsoft store)",
      "language": "python",
      "name": "python3"
    },
    "language_info": {
      "codemirror_mode": {
        "name": "ipython",
        "version": 3
      },
      "file_extension": ".py",
      "mimetype": "text/x-python",
      "name": "python",
      "nbconvert_exporter": "python",
      "pygments_lexer": "ipython3",
      "version": "3.10.9 (tags/v3.10.9:1dd9be6, Dec  6 2022, 20:01:21) [MSC v.1934 64 bit (AMD64)]"
    },
    "vscode": {
      "interpreter": {
        "hash": "8bf0d51478355d2251941b3b98616086516a0eddd7c72ee47a3371765770709a"
      }
    }
  },
  "nbformat": 4,
  "nbformat_minor": 0
}
