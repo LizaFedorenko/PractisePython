{
  "cells": [
    {
      "cell_type": "markdown",
      "metadata": {
        "id": "FMqboNwO4rVs"
      },
      "source": [
        "# **Курс \"Програмування на мові Python\"**"
      ]
    },
    {
      "cell_type": "markdown",
      "metadata": {
        "id": "A2T6MigL5Z06"
      },
      "source": [
        "## **Практичне зайняття №9**\n",
        "\n",
        "### Тема: \"Робота з функціями. Локальні та глобальні змінні\""
      ]
    },
    {
      "cell_type": "markdown",
      "metadata": {
        "id": "cfCdgK2zXm7e"
      },
      "source": [
        "### **Завдання 1 (3 бали)**\n",
        "\n",
        "**Підрахувати визначник матриці, використовуючи правило перестановок.**\n",
        "\n",
        "Функція random_matrix() призначена для створення квадратної матриці випадкових чисел. Її змінювати непотрібно.\n",
        "\n",
        "Приклад використання методу permutations() для створення списку перестановок також подається у комірці з кодом.\n",
        "\n",
        "1) Створити 3 функції: функцію створення списку перестановок, функцію підрахунку добутків та функцію підрахунку загальної суми.\n",
        "\n",
        "2) Кожна функція має супроводжуватись рядком документації, що буде коротко описувати її призначення.\n",
        "\n",
        "3) Розмірність квадратної матриці має вводитись користувачем з клавіатури. Підрахунки виконувати лише в тому разі, якщо користувач введе ціле додатне число.\n",
        "\n",
        "4) Загальний результат повинен підраховуватись за допомогою композиції функцій.\n",
        "\n",
        "За бажанням можна перевірити правильність роботи програми за допомогою функції np.linalg.det(a)."
      ]
    },
    {
      "cell_type": "code",
      "execution_count": 57,
      "metadata": {
        "id": "ifNX2M7LXm7f"
      },
      "outputs": [
        {
          "name": "stdout",
          "output_type": "stream",
          "text": [
            "[[1 3 0]\n",
            " [5 8 1]\n",
            " [4 7 2]]\n",
            "Result: -9\n",
            "Result1: -8.999999999999998\n"
          ]
        }
      ],
      "source": [
        "import numpy as np\n",
        "import itertools\n",
        "\n",
        "def random_matrix(dim):\n",
        "    \"\"\"\n",
        "    The function generates dim x dim array of integers\n",
        "    between 0 and 10.\n",
        "    \"\"\"\n",
        "    matrix = np.random.randint(10, size = (dim, dim))\n",
        "    return matrix\n",
        "\n",
        "#Example of using permutations() method\n",
        "g = list(itertools.permutations('123', 3))\n",
        "def perestanovki(array,i,j):\n",
        "    '''Функція шукає перестановки за допомогою delete з модуля numpy'''\n",
        "    #Зріз виду [:] для 'копіювання'\n",
        "    c = array[:]\n",
        "    #Delete виду (змінна, підмасив, ось з якої треба видалити підмасив)\n",
        "    c = np.delete(c, (i), axis = 0)\n",
        "    return [np.delete(row, (j), axis = 0) for row in (c)]\n",
        "\n",
        "def dobytki_suma(array):\n",
        "    '''Функція для пошуку добутків, а також обробка простої матриці 1x1, 2x2'''\n",
        "    # n - довжина рядків, еквівалентно вводу розміру матриці, array окрема змінна для зручності\n",
        "    n = len(array)\n",
        "    if n == 1 :\n",
        "        return array[0][0]\n",
        "    if n == 2 :\n",
        "        return array[0][0]*array[1][1] - array[0][1]*array[1][0]\n",
        "    sum = 0\n",
        "    for i in range(0,n):\n",
        "        m = perestanovki(array,0,i)\n",
        "        sum =sum + ((-1)**i)*array[0][i] * dobytki_suma(m)\n",
        "    return sum\n",
        "\n",
        "\n",
        "try:\n",
        " a = int(input())\n",
        " if a <= 0:\n",
        "    print('Oops! Size cannot be negative')\n",
        " else:\n",
        "  m = random_matrix(a)\n",
        "  print(m)\n",
        "  #if n == 1 :return array[0][0]\n",
        "  #if n == 2 :return array[0][0]*array[1][1] - array[0][1]*array[1][0]\n",
        "  print('Result:', dobytki_suma(m))\n",
        "  print('Result1:', np.linalg.det(m))\n",
        "except ValueError:\n",
        "    raise ValueError ('Oops!')"
      ]
    }
  ],
  "metadata": {
    "colab": {
      "collapsed_sections": [],
      "name": "Practice_7_KM-01_.ipynb",
      "provenance": []
    },
    "kernelspec": {
      "display_name": "Python 3.10.8 64-bit (microsoft store)",
      "language": "python",
      "name": "python3"
    },
    "language_info": {
      "codemirror_mode": {
        "name": "ipython",
        "version": 3
      },
      "file_extension": ".py",
      "mimetype": "text/x-python",
      "name": "python",
      "nbconvert_exporter": "python",
      "pygments_lexer": "ipython3",
      "version": "3.10.8"
    },
    "vscode": {
      "interpreter": {
        "hash": "e0acaf148705ed9ed86cc5cad12259d7985e30670e5686e5f55604a9b3b84a55"
      }
    }
  },
  "nbformat": 4,
  "nbformat_minor": 0
}
