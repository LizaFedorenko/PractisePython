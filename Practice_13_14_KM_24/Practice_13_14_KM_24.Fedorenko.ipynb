{
  "cells": [
    {
      "cell_type": "markdown",
      "metadata": {
        "id": "FMqboNwO4rVs"
      },
      "source": [
        "# **Курс \"Програмування на мові Python\"**"
      ]
    },
    {
      "cell_type": "markdown",
      "metadata": {
        "id": "A2T6MigL5Z06"
      },
      "source": [
        "## **Практичні зайняття №13-14**\n",
        "\n",
        "### Тема: \"Робота з файлами. Робота зі спеціальними форматами файлів\""
      ]
    },
    {
      "cell_type": "markdown",
      "metadata": {
        "id": "cfCdgK2zXm7e"
      },
      "source": [
        "### **Завдання 1 (1,5 бали)**\n",
        "\n",
        "У 1939 році друком вийшов роман американського письменика Ернеста Вінсента Райта \"Ґетсбі\". Особливу увагу публіки він здобув через те, що письменник жодного разу не використав у романі літеру \"e\" (роман складається з більше ніж 50,000 слів), яка є найбільш вживаною літерою в англійській мові.\n",
        "\n",
        "Порахуйте кількість входжень кожної літери у текст роману. Виведіть список літер англійського алфавіту, а також інформацію про те, скільки відсотків від усіх літер тексту складає кожна літера алфавіту.\n",
        "\n",
        "Зауваження:\n",
        "\n",
        "1. Програма має ігнорувати будь-які символи, окрім літер.\n",
        "\n",
        "2. Переведіть усі літери у верхній або у нижній регістр.\n",
        "\n",
        "3. Під час виведення відсортуйте літери у порядку зменшення їхнього відсотка. Літера \"e\" має стояти на останньому місці у цьому списку (хоча кілька літер e там все ж таки зустрічається).\n",
        "\n",
        "4. Виведіть перші 5 та останні 5 літер відсортованого списку разом з відсотковими значеннями, що їм відповідають. Відсотки округліть до тисячних."
      ]
    },
    {
      "cell_type": "code",
      "execution_count": 38,
      "metadata": {
        "id": "u4-fHJJ6U462",
        "tags": []
      },
      "outputs": [
        {
          "ename": "TypeError",
          "evalue": "'ZipExtFile' object is not callable",
          "output_type": "error",
          "traceback": [
            "\u001b[1;31m---------------------------------------------------------------------------\u001b[0m",
            "\u001b[1;31mTypeError\u001b[0m                                 Traceback (most recent call last)",
            "Cell \u001b[1;32mIn [38], line 3\u001b[0m\n\u001b[0;32m      1\u001b[0m \u001b[39mimport\u001b[39;00m \u001b[39mstring\u001b[39;00m\n\u001b[1;32m----> 3\u001b[0m f \u001b[39m=\u001b[39m \u001b[39mopen\u001b[39;49m(\u001b[39m'\u001b[39;49m\u001b[39mgadsby.txt\u001b[39;49m\u001b[39m'\u001b[39;49m, \u001b[39m'\u001b[39;49m\u001b[39mr\u001b[39;49m\u001b[39m'\u001b[39;49m)\n\u001b[0;32m      5\u001b[0m letter_dict \u001b[39m=\u001b[39m \u001b[39mdict\u001b[39m([(letter, \u001b[39m0\u001b[39m) \u001b[39mfor\u001b[39;00m letter \u001b[39min\u001b[39;00m string\u001b[39m.\u001b[39mascii_lowercase])\n\u001b[0;32m      6\u001b[0m \u001b[39m# letter_dict: {'a': 0, 'b': 0, ..., 'z': 0}\u001b[39;00m\n",
            "\u001b[1;31mTypeError\u001b[0m: 'ZipExtFile' object is not callable"
          ]
        }
      ],
      "source": [
        "import string\n",
        "\n",
        "f = open('gadsby.txt', 'r')\n",
        "\n",
        "letter_dict = dict([(letter, 0) for letter in string.ascii_lowercase])\n",
        "# letter_dict: {'a': 0, 'b': 0, ..., 'z': 0}\n",
        "\n",
        "\n",
        "for line in f:\n",
        "    for ele in line[:-1].lower():\n",
        "        if ele in letter_dict.keys():\n",
        "            letter_dict[ele] += 1\n",
        "\n",
        "f.close()\n",
        "\n",
        "all_letters_count = sum(letter_dict.values())\n",
        "letter_dict = sorted(letter_dict.items(), key = lambda x: -x[1])\n",
        "\n",
        "for letter, count in letter_dict[:5]:\n",
        "    percent = round(100 * count/all_letters_count, 3)\n",
        "    print(f\"{letter} - {percent}%\")\n",
        "\n",
        "print('...')\n",
        "\n",
        "for letter, count in letter_dict[-5:]:\n",
        "    percent = round(100 * count/all_letters_count, 3)\n",
        "    print(f\"{letter} - {percent}%\")"
      ]
    },
    {
      "cell_type": "code",
      "execution_count": 39,
      "metadata": {},
      "outputs": [
        {
          "ename": "TypeError",
          "evalue": "'ZipExtFile' object is not callable",
          "output_type": "error",
          "traceback": [
            "\u001b[1;31m---------------------------------------------------------------------------\u001b[0m",
            "\u001b[1;31mTypeError\u001b[0m                                 Traceback (most recent call last)",
            "Cell \u001b[1;32mIn [39], line 13\u001b[0m\n\u001b[0;32m      8\u001b[0m n \u001b[39m=\u001b[39m \u001b[39m0\u001b[39m\n\u001b[0;32m      9\u001b[0m d \u001b[39m=\u001b[39m {}                               \n\u001b[1;32m---> 13\u001b[0m \u001b[39mwith\u001b[39;00m \u001b[39mopen\u001b[39;49m (\u001b[39m'\u001b[39;49m\u001b[39mgadsby.txt\u001b[39;49m\u001b[39m'\u001b[39;49m, \u001b[39m'\u001b[39;49m\u001b[39mrt\u001b[39;49m\u001b[39m'\u001b[39;49m) \u001b[39mas\u001b[39;00m myfile:    \n\u001b[0;32m     14\u001b[0m     \u001b[39mfor\u001b[39;00m myline \u001b[39min\u001b[39;00m myfile:                   \n\u001b[0;32m     15\u001b[0m         mylines\u001b[39m.\u001b[39mappend((myline\u001b[39m.\u001b[39mrstrip(\u001b[39m'\u001b[39m\u001b[39m\\n\u001b[39;00m\u001b[39m'\u001b[39m)\u001b[39m.\u001b[39mlower()))\n",
            "\u001b[1;31mTypeError\u001b[0m: 'ZipExtFile' object is not callable"
          ]
        }
      ],
      "source": [
        "import string\n",
        "letters = ['a', 'b', 'c', 'd', 'e', 'f', 'g', 'h', 'i', 'j', 'k', 'l', 'm', 'n', 'o', 'p', 'q', 'r', 's', 't', 'u', 'v', 'w', 'x', 'y', 'z']\n",
        "\n",
        "listq1 = []\n",
        "count = 0\n",
        "mylines = []                              \n",
        "mylines = []\n",
        "n = 0\n",
        "d = {}                               \n",
        "\n",
        "\n",
        "\n",
        "with open ('gadsby.txt', 'rt') as myfile:    \n",
        "    for myline in myfile:                   \n",
        "        mylines.append((myline.rstrip('\\n').lower()))\n",
        "for substr in letters:\n",
        " n+=count  \n",
        " count = 0                 \n",
        " for line in mylines:          \n",
        "  index = 0                   \n",
        "  prev = 0                                  \n",
        "  while index < len(line): \n",
        "\n",
        "    index = line.find(substr, index)  \n",
        "    if index == -1:           \n",
        "      break                   \n",
        "                                               \n",
        "    prev = index + len(substr)       \n",
        "    index += len(substr)\n",
        "    count = count + 1\n",
        "    d[substr] = count\n",
        "    \n",
        "print(letters)\n",
        "\n",
        "for i in range(0, 5):\n",
        "  m = max(d, key = d.get)\n",
        "  print(m,\"= %\",round(d.get(m)*100/n, 3))\n",
        "  del d [m]\n",
        "for i in range(0, len(d)-5):\n",
        "  m = max(d, key = d.get)\n",
        "  del d [m]\n",
        "print('...')\n",
        "for i in range(0, 5):\n",
        "  m = max(d, key=d.get)\n",
        "  print(m, \"= %\", round(d.get(m)*100/n,3))\n",
        "  del d [m]                                "
      ]
    },
    {
      "cell_type": "markdown",
      "metadata": {
        "id": "A34oz70eU463"
      },
      "source": [
        "### **Завдання 2 (1,5 бали)**\n",
        "\n",
        "Архів archive.zip містить 140 txt-файлів, в яких збережено інфорамцію про те, якими іменами називали дітей у США в період з 1880 по 2019 рік.\n",
        "\n",
        "Структура рядка кожного файлу така:\n",
        "\n",
        "*name,sex,number_of_occurrences*\n",
        "\n",
        "Напишіть програму, яка зчитуватиме кожен файл та визначатиме окремо чоловічі, окремо жіночі імена, що були найпопулярнішими хоча б в один з років. Далі програма повинна підраховувати, скільки разів кожне з цих імен ставало найпопулярнишим, та виводити ранжовані списки чоловічіх та жіночих імен у вигляді:\n",
        "\n",
        "```\n",
        "Michael 44\n",
        "John 44\n",
        "Robert 17\n",
        "...\n",
        "\n",
        "Mary 76\n",
        "Jennifer 15\n",
        "Emily 12\n",
        "...\n",
        "```"
      ]
    },
    {
      "cell_type": "code",
      "execution_count": 1,
      "metadata": {},
      "outputs": [
        {
          "name": "stdout",
          "output_type": "stream",
          "text": [
            "{'John': 44, 'Robert': 17, 'James': 13, 'Michael': 44, 'David': 1, 'Jacob': 14, 'Noah': 4, 'Liam': 3}\n",
            "David = 1\n",
            "Jacob = 14\n",
            "James = 13\n",
            "John = 44\n",
            "Liam = 3\n",
            "Michael = 44\n",
            "Noah = 4\n",
            "Robert = 17\n",
            "...\n",
            "Ashley = 2\n",
            "Emily = 12\n",
            "Emma = 6\n",
            "Isabella = 2\n",
            "Jennifer = 15\n",
            "Jessica = 9\n",
            "Linda = 6\n",
            "Lisa = 8\n",
            "Mary = 76\n",
            "Olivia = 1\n",
            "Sophia = 3\n"
          ]
        }
      ],
      "source": [
        "import zipfile\n",
        "import re\n",
        "fname = {}\n",
        "mname = {}\n",
        "\n",
        "with zipfile.ZipFile('archive.zip') as myzip:\n",
        "\n",
        "    for filename in myzip.namelist():\n",
        "      d1 = {}\n",
        "      d2 = {}\n",
        "      if filename[-4:] == '.txt':\n",
        "        \n",
        "        open = myzip.open(filename)\n",
        "        for line in open.readlines():\n",
        "         decoded_line = line.decode(encoding = \"utf-8\")\n",
        "         values = re.split(r' |,|\\n', decoded_line)\n",
        "         name = values[0]\n",
        "         sex = values[1]\n",
        "         count = int(values[2])\n",
        "         if sex == 'M':\n",
        "            d1[name] = int(count)\n",
        "         elif sex == 'F':\n",
        "            d2[name] = int(count)\n",
        "        female_names = list(d2.items())\n",
        "        male_names = list(d1.items())\n",
        "        popular_m = male_names[0][0] \n",
        "        popular_f = female_names[0][0]\n",
        "        v1 = mname.get(popular_m,0)\n",
        "        mname[popular_m] = v1 + 1\n",
        "        fname[popular_f] = fname.get(popular_f, 0) + 1          \n",
        "      else:\n",
        "        continue\n",
        "    print(mname)\n",
        "    popular1  = dict(sorted((key, value) for (key, value) in mname.items()))\n",
        "    popular2 = dict(sorted((key,value) for (key,value) in fname.items()))\n",
        "    for key, value in popular1.items(): \n",
        "      print(key, \"=\",value)\n",
        "    print('...')\n",
        "    for key, value in popular2.items():\n",
        "        print(key, \"=\", value)\n",
        "                    \n",
        "            \n"
      ]
    },
    {
      "cell_type": "markdown",
      "metadata": {},
      "source": [
        "### **Завдання 3 (1,5 бали)**\n",
        "\n",
        "Створіть CSV-файл, що буде містити від 5 до 10 пісень (творів) вашого улюбленого музиканта. Назва файлу - ім'я музиканта (композитора) або назва гурту.\n",
        "\n",
        "1. Обов'язково додайте до файлу рядок з назвами двох колонок (Song, Year) або (Composition, Year).\n",
        "\n",
        "2. Після запису файлу роздрукуйте назву файлу та усі наявні у файлі рядки (включно із заголовками).\n",
        "\n",
        "3. Для запису та зчитування рядків скористайтесь функціями csv.DictWriter() та csv.DictReader()."
      ]
    },
    {
      "cell_type": "code",
      "execution_count": 14,
      "metadata": {},
      "outputs": [
        {
          "name": "stdout",
          "output_type": "stream",
          "text": [
            "Metallica.csv\n",
            "Song                 Year                 \n",
            "----------\n",
            "Enter Sandman        1991                \n",
            "Murder One           2016                \n",
            "Master of Puppets    1986                \n",
            "2X4                  1996                \n",
            "Seek & Destroy       1983                \n"
          ]
        }
      ],
      "source": [
        "import csv\n",
        "with open('Metallica.csv', 'w', newline = '') as csvfile:\n",
        "    fieldnames = ['Song', 'Year']\n",
        "    writer = csv.DictWriter(csvfile, fieldnames = fieldnames)\n",
        "    writer.writeheader()\n",
        "    writer.writerow({'Song': 'Enter Sandman',\n",
        "                     'Year': '1991'})\n",
        "    writer.writerow({'Song': 'Murder One',\n",
        "                     'Year': '2016'})\n",
        "    writer.writerow({'Song': 'Master of Puppets',\n",
        "                     'Year': '1986'})\n",
        "    writer.writerow({'Song':'2X4',\n",
        "                     'Year': '1996',})\n",
        "    writer.writerow({'Song': 'Seek & Destroy',\n",
        "                     'Year': '1983'})\n",
        "\n",
        "\n",
        "print(csvfile.name)\n",
        "with open('Metallica.csv','r') as csvfile:\n",
        "    reader = csv.DictReader(csvfile)\n",
        "    for heading in reader.fieldnames:\n",
        "        print(f'{heading:20}',end=\" \")\n",
        "    print('\\n----------')\n",
        "    for row in reader:\n",
        "        print(f'{row[\"Song\"]:20}   {row[\"Year\"]:20}')\n"
      ]
    },
    {
      "cell_type": "markdown",
      "metadata": {},
      "source": [
        "### **Завдання 4 (1,5 бали)**\n",
        "\n",
        "COCO Dataset - набір фотографій та анотацій до них. Його дуже часто використовують для тренування класифікаторів, призначених для розпізнавання об'єктів та визначення ключових точок на зображеннях.\n",
        "\n",
        "Завантажте файли з описом фотографій COCO Dataset за посиланням: [COCO Dataset](http://images.cocodataset.org/annotations/image_info_test2017.zip).\n",
        "\n",
        "Відкрийте файл image_info_test-dev2017.json. Інформація про фотографії з бази COCO міститься у полі \"images\". Інформація про категорії, на які розділені всі фотографії, міститься у полі \"categories\".\n",
        "\n",
        "1. Визначте кількість фотографій, інформацію про які можна знайти у цьому файлі (кількість елементів, що відповідають ключу \"images\").\n",
        "\n",
        "2. Визначте кількість наявних категорій (кількість елементів, що відповідають ключу \"categories\").\n",
        "\n",
        "3. Виведіть посилання на фотографію 000000000001.jpg (\"coco_url\"). Також виведіть висоту цієї фотографії (\"height\"), ширину (\"width\") та її ідентифікатор (\"id\").\n",
        "\n",
        "4. Виведіть назву фотографії з набільшим номером.\n",
        "\n",
        "Опис структури JSON-файлу для набору фотографій COCO можна знайти за посиланням: [Data format](https://cocodataset.org/#format-data).\n",
        "\n",
        "Щоб перевірити правильність результатів, у VS Code встановіть розширення JSON та відкрийте файл image_info_test-dev2017.json. Розширення автоматично визначає кількість елементів у кожному полі."
      ]
    },
    {
      "cell_type": "code",
      "execution_count": 63,
      "metadata": {},
      "outputs": [
        {
          "name": "stdout",
          "output_type": "stream",
          "text": [
            "Images: 20288\n",
            "Categories: 80\n",
            "Coco_url:http://images.cocodataset.org/test2017/000000000001.jpg\n",
            "height:480\n",
            "Width:640\n",
            "Id:1\n",
            "Image with max number:000000581918.jpg\n"
          ]
        }
      ],
      "source": [
        "import json\n",
        "with open('image_info_test-dev2017.json') as f:\n",
        "    data = json.load(f)\n",
        "    images = len(data['images'])\n",
        "    c = len(data['categories'])\n",
        "print(f'Images: {images}')\n",
        "print(f'Categories: {c}')\n",
        "for image in data['images']:\n",
        "    if image['file_name'] == '000000000001.jpg':\n",
        "        print(f'Coco_url:{image[\"coco_url\"]}')\n",
        "        print(f'height:{image[\"height\"]}')\n",
        "        print(f'Width:{image[\"width\"]}')\n",
        "        print(f'Id:{image[\"id\"]}')\n",
        "\n",
        "\n",
        "\n",
        "\n",
        "id = data['images'][0]['id']\n",
        "for image in data['images']:\n",
        "    if id < image['id']:\n",
        "        id = image['id']\n",
        "        i1 = image\n",
        "print(f'Image with max number:{i1[\"file_name\"]}')"
      ]
    }
  ],
  "metadata": {
    "colab": {
      "collapsed_sections": [],
      "name": "Practice_14_KM_01.ipynb",
      "provenance": []
    },
    "kernelspec": {
      "display_name": "Python 3",
      "language": "python",
      "name": "python3"
    },
    "language_info": {
      "codemirror_mode": {
        "name": "ipython",
        "version": 3
      },
      "file_extension": ".py",
      "mimetype": "text/x-python",
      "name": "python",
      "nbconvert_exporter": "python",
      "pygments_lexer": "ipython3",
      "version": "3.10.9"
    },
    "vscode": {
      "interpreter": {
        "hash": "8bf0d51478355d2251941b3b98616086516a0eddd7c72ee47a3371765770709a"
      }
    }
  },
  "nbformat": 4,
  "nbformat_minor": 0
}
